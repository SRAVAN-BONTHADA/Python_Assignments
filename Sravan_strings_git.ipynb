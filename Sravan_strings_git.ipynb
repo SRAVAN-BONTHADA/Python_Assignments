{
 "cells": [
  {
   "cell_type": "code",
   "execution_count": 1,
   "id": "8635d7cb",
   "metadata": {},
   "outputs": [
    {
     "data": {
      "text/plain": [
       "'innomatics'"
      ]
     },
     "execution_count": 1,
     "metadata": {},
     "output_type": "execute_result"
    }
   ],
   "source": [
    "# 1.  Write a python program to convert a string to lowercase\n",
    "str1 = \"INNOMATICS\"\n",
    "str1 = str1.lower()\n",
    "str1"
   ]
  },
  {
   "cell_type": "code",
   "execution_count": null,
   "id": "d8ec584a",
   "metadata": {},
   "outputs": [],
   "source": []
  },
  {
   "cell_type": "markdown",
   "id": "7aba9340",
   "metadata": {},
   "source": [
    "#### 2. Write a python program to convert only odd indexed characters to lowercase\n",
    "\n",
    "Ex: PYTHON\n",
    "Output: - PyThOn\n"
   ]
  },
  {
   "cell_type": "code",
   "execution_count": 7,
   "id": "43e12517",
   "metadata": {},
   "outputs": [
    {
     "name": "stdout",
     "output_type": "stream",
     "text": [
      "P\n",
      "y\n",
      "T\n",
      "h\n",
      "O\n",
      "n\n"
     ]
    }
   ],
   "source": [
    "str2 = \"PYTHON\"\n",
    "for o in range(len(str2)):\n",
    "        if o % 2 == 1:\n",
    "            print(str2[o].lower())\n",
    "        else:\n",
    "            print(str2[o])"
   ]
  },
  {
   "cell_type": "code",
   "execution_count": null,
   "id": "0026dc45",
   "metadata": {},
   "outputs": [],
   "source": []
  },
  {
   "cell_type": "markdown",
   "id": "469fa65a",
   "metadata": {},
   "source": [
    "#### 3. Write a python program to convert only even indexed characters to lowercase\n",
    "\n",
    "Ex: PYTHON\n",
    "Output: - pYtHoN\n"
   ]
  },
  {
   "cell_type": "code",
   "execution_count": 6,
   "id": "3bed649a",
   "metadata": {},
   "outputs": [
    {
     "name": "stdout",
     "output_type": "stream",
     "text": [
      "p\n",
      "Y\n",
      "t\n",
      "H\n",
      "o\n",
      "N\n"
     ]
    }
   ],
   "source": [
    "str2 = \"PYTHON\"\n",
    "for o in range(len(str2)):\n",
    "        if o % 2 == 0:\n",
    "            print(str2[o].lower())\n",
    "        else:\n",
    "            print(str2[o])"
   ]
  },
  {
   "cell_type": "code",
   "execution_count": null,
   "id": "cef4cce5",
   "metadata": {},
   "outputs": [],
   "source": []
  },
  {
   "cell_type": "markdown",
   "id": "19edcfa7",
   "metadata": {},
   "source": [
    "#### 4. Write a python program to convert only odd indexed characters to uppercase\n",
    "\n",
    "Ex: python\n",
    "Output: pYtHoN\n"
   ]
  },
  {
   "cell_type": "code",
   "execution_count": 38,
   "id": "d144a34d",
   "metadata": {
    "scrolled": true
   },
   "outputs": [
    {
     "name": "stdout",
     "output_type": "stream",
     "text": [
      "p\n",
      "Y\n",
      "t\n",
      "H\n",
      "o\n",
      "N\n"
     ]
    }
   ],
   "source": [
    "str2 = \"python\"\n",
    "for o in range(len(str2)):\n",
    "        if o % 2 == 1:\n",
    "            print(str2[o].upper())\n",
    "        else:\n",
    "            print(str2[o])"
   ]
  },
  {
   "cell_type": "code",
   "execution_count": null,
   "id": "4033bb50",
   "metadata": {},
   "outputs": [],
   "source": []
  },
  {
   "cell_type": "markdown",
   "id": "8280c969",
   "metadata": {},
   "source": [
    "#### 5. Write a python program to convert only even indexed characters to uppercase\n",
    "\n",
    "Ex: python\n",
    "Output: - PyThOn\n"
   ]
  },
  {
   "cell_type": "code",
   "execution_count": 14,
   "id": "e3f8398e",
   "metadata": {},
   "outputs": [
    {
     "name": "stdout",
     "output_type": "stream",
     "text": [
      "P\n",
      "y\n",
      "T\n",
      "h\n",
      "O\n",
      "n\n"
     ]
    }
   ],
   "source": [
    "str2 = \"python\"\n",
    "for o in range(len(str2)):\n",
    "        if o % 2 == 0:\n",
    "            print(str2[o].upper())\n",
    "        else:\n",
    "            print(str2[o])"
   ]
  },
  {
   "cell_type": "code",
   "execution_count": null,
   "id": "94ae6fed",
   "metadata": {},
   "outputs": [],
   "source": []
  },
  {
   "cell_type": "code",
   "execution_count": null,
   "id": "feb2ddf8",
   "metadata": {},
   "outputs": [],
   "source": []
  },
  {
   "cell_type": "markdown",
   "id": "7be29d80",
   "metadata": {},
   "source": [
    "#### 6. Write a python program where you have different variables which contain your name, gender, age, phone number, father’s name and mother’s name. And by using this variable create a variable named bio-data where you will use all this variable\n",
    "\n",
    "Ex: print(bio-data)\n",
    "\n",
    "Output:- My name is …., My age is ….,My phone-no is ….,my father’s name is …,and my mother’s name is…\n"
   ]
  },
  {
   "cell_type": "code",
   "execution_count": 28,
   "id": "26d78a08",
   "metadata": {},
   "outputs": [
    {
     "name": "stdout",
     "output_type": "stream",
     "text": [
      "My name is MAHESH,My age is 23,hone-no is 9652365236,My father name is SIVUNNAIDUMy mother is NARAYANI.\n"
     ]
    }
   ],
   "source": [
    "NAME = \"My name is MAHESH,\"\n",
    "AGE  = \"My age is 23,\" \n",
    "PHO_NO = \"hone-no is 9652365236,\"\n",
    "FATHER = \"My father name is SIVUNNAIDU\"\n",
    "MOTHER = \"My mother is NARAYANI.\"\n",
    "bio_ata = NAME + AGE + PHO_NO +FATHER + MOTHER \n",
    "print(bio_ata)\n"
   ]
  },
  {
   "cell_type": "code",
   "execution_count": null,
   "id": "60828a07",
   "metadata": {},
   "outputs": [],
   "source": []
  },
  {
   "cell_type": "markdown",
   "id": "da3b0f10",
   "metadata": {},
   "source": [
    "#### 7. Write a python program to count how many times “@” occurred\n",
    " Ex: S@ndhy@ \n",
    "Output: 2\n"
   ]
  },
  {
   "cell_type": "code",
   "execution_count": 39,
   "id": "149f57f3",
   "metadata": {},
   "outputs": [
    {
     "data": {
      "text/plain": [
       "2"
      ]
     },
     "execution_count": 39,
     "metadata": {},
     "output_type": "execute_result"
    }
   ],
   "source": [
    "s = \"S@ndhy@\"\n",
    "s.count('@')"
   ]
  },
  {
   "cell_type": "code",
   "execution_count": null,
   "id": "954dad02",
   "metadata": {},
   "outputs": [],
   "source": []
  },
  {
   "cell_type": "markdown",
   "id": "886e72d9",
   "metadata": {},
   "source": [
    "#### 8. Write a python program to get only names from the string\n",
    "\n",
    "Ex: “name1.@gmail.com, name2.@gmail.com, name#3.@gmail.com”\n",
    "\t\n",
    "Output-name1, name2, name3\n"
   ]
  },
  {
   "cell_type": "code",
   "execution_count": 32,
   "id": "0c9be3f6",
   "metadata": {},
   "outputs": [
    {
     "name": "stdout",
     "output_type": "stream",
     "text": [
      "name1\n",
      "name2\n"
     ]
    }
   ],
   "source": [
    "name1 = \"name1.@gmail.com\"\n",
    "name2 = \"name2.@gmail.com\"\n",
    "print(name1[:5])\n",
    "print(name2[:5])"
   ]
  },
  {
   "cell_type": "code",
   "execution_count": null,
   "id": "7cabcf95",
   "metadata": {},
   "outputs": [],
   "source": []
  },
  {
   "cell_type": "markdown",
   "id": "364ac1c6",
   "metadata": {},
   "source": [
    "#### 9. Write a program to remove vowels from the entire alphabets\n",
    "\n",
    "Ex: “abcdefghijklmnopqrstuvwxyz”\n",
    "\n",
    "Output: “bcdfghjklmnpqrstvwxyz”\n"
   ]
  },
  {
   "cell_type": "code",
   "execution_count": 35,
   "id": "33f37686",
   "metadata": {},
   "outputs": [
    {
     "name": "stdout",
     "output_type": "stream",
     "text": [
      "b c d f g h j k l m n p q r s t v w x y z "
     ]
    }
   ],
   "source": [
    "for k in \"abcdefghijklmnopqrstuvwxyz\":\n",
    "    if k not in \"aeiou\":\n",
    "        print(k,end = \" \")"
   ]
  },
  {
   "cell_type": "code",
   "execution_count": null,
   "id": "e56c958f",
   "metadata": {},
   "outputs": [],
   "source": []
  },
  {
   "cell_type": "markdown",
   "id": "1d8e2820",
   "metadata": {},
   "source": [
    "#### 10. Find all occurrences of a substring in a given string by ignoring the case\n",
    "\n",
    "Ex: str1 = \"Welcome to Innomatics. innomatics awesome, isn't it?\"\n",
    "\n",
    "Output: innomatics count is: 2\n",
    "\n"
   ]
  },
  {
   "cell_type": "code",
   "execution_count": 36,
   "id": "91e6ccdc",
   "metadata": {},
   "outputs": [
    {
     "name": "stdout",
     "output_type": "stream",
     "text": [
      "innomatics count is:  1\n"
     ]
    }
   ],
   "source": [
    "str1 = \"Welcome to innomatics of a substring in a given string by ignoring the case\"\n",
    "str1 = str1.count(\"innomatics\")\n",
    "print(\"innomatics count is: \",str1)"
   ]
  },
  {
   "cell_type": "code",
   "execution_count": null,
   "id": "5abfa04c",
   "metadata": {},
   "outputs": [],
   "source": []
  },
  {
   "cell_type": "code",
   "execution_count": null,
   "id": "d998340c",
   "metadata": {},
   "outputs": [],
   "source": []
  }
 ],
 "metadata": {
  "kernelspec": {
   "display_name": "Python 3 (ipykernel)",
   "language": "python",
   "name": "python3"
  },
  "language_info": {
   "codemirror_mode": {
    "name": "ipython",
    "version": 3
   },
   "file_extension": ".py",
   "mimetype": "text/x-python",
   "name": "python",
   "nbconvert_exporter": "python",
   "pygments_lexer": "ipython3",
   "version": "3.9.13"
  }
 },
 "nbformat": 4,
 "nbformat_minor": 5
}
